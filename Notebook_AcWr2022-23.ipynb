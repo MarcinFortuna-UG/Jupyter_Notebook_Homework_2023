{
 "cells": [
  {
   "cell_type": "markdown",
   "metadata": {},
   "source": [
    "# Introduction to Jupyter Notebooks"
   ]
  },
  {
   "cell_type": "markdown",
   "metadata": {},
   "source": [
    "Hello! I am in a *Jupyter Notebook*!"
   ]
  },
  {
   "cell_type": "markdown",
   "metadata": {},
   "source": [
    "*Jupyter Notebook* is an interactive environment in which I can combine Python with Markdown :D"
   ]
  },
  {
   "cell_type": "code",
   "execution_count": 2,
   "metadata": {},
   "outputs": [
    {
     "name": "stdout",
     "output_type": "stream",
     "text": [
      "Hello world!\n"
     ]
    }
   ],
   "source": [
    "print(\"Hello world!\")"
   ]
  },
  {
   "cell_type": "code",
   "execution_count": 3,
   "metadata": {},
   "outputs": [
    {
     "data": {
      "text/plain": [
       "17"
      ]
     },
     "execution_count": 3,
     "metadata": {},
     "output_type": "execute_result"
    }
   ],
   "source": [
    "3 * 5 + 2"
   ]
  },
  {
   "cell_type": "code",
   "execution_count": 4,
   "metadata": {},
   "outputs": [
    {
     "data": {
      "text/plain": [
       "3.141592653589793"
      ]
     },
     "execution_count": 4,
     "metadata": {},
     "output_type": "execute_result"
    }
   ],
   "source": [
    "import math\n",
    "math.pi"
   ]
  },
  {
   "cell_type": "markdown",
   "metadata": {},
   "source": [
    "The line below contains a function which calculates the **area of a circle**:"
   ]
  },
  {
   "cell_type": "code",
   "execution_count": 6,
   "metadata": {},
   "outputs": [],
   "source": [
    "def calculateArea(r):\n",
    "    return math.pi * r * r"
   ]
  },
  {
   "cell_type": "code",
   "execution_count": 7,
   "metadata": {},
   "outputs": [
    {
     "data": {
      "text/plain": [
       "3.141592653589793"
      ]
     },
     "execution_count": 7,
     "metadata": {},
     "output_type": "execute_result"
    }
   ],
   "source": [
    "calculateArea(1)"
   ]
  },
  {
   "cell_type": "code",
   "execution_count": 8,
   "metadata": {},
   "outputs": [
    {
     "data": {
      "text/plain": [
       "78.53981633974483"
      ]
     },
     "execution_count": 8,
     "metadata": {},
     "output_type": "execute_result"
    }
   ],
   "source": [
    "calculateArea(5)"
   ]
  },
  {
   "cell_type": "code",
   "execution_count": 9,
   "metadata": {},
   "outputs": [
    {
     "name": "stdout",
     "output_type": "stream",
     "text": [
      "0.0\n",
      "3.141592653589793\n",
      "12.566370614359172\n",
      "28.274333882308138\n",
      "50.26548245743669\n",
      "78.53981633974483\n",
      "113.09733552923255\n",
      "153.93804002589985\n",
      "201.06192982974676\n",
      "254.46900494077323\n"
     ]
    }
   ],
   "source": [
    "for i in range(10):\n",
    "    print(calculateArea(i))"
   ]
  },
  {
   "cell_type": "markdown",
   "metadata": {},
   "source": [
    "Area of circle: $\\pi r^2$"
   ]
  },
  {
   "cell_type": "markdown",
   "metadata": {},
   "source": [
    "I'm writing these lines using $\\LaTeX$ syntax ;)"
   ]
  },
  {
   "cell_type": "markdown",
   "metadata": {},
   "source": [
    "$\\frac{1}{2} + \\frac{1}{3} = \\frac{5}{6}$"
   ]
  },
  {
   "cell_type": "markdown",
   "metadata": {},
   "source": [
    "<p>This is a paragraph in <span style=\"color:green;font-size:large\">HTML!</span></p>"
   ]
  },
  {
   "cell_type": "markdown",
   "metadata": {},
   "source": [
    "<img src=\"https://images.unsplash.com/photo-1684692238677-6eac03518c05?ixlib=rb-4.0.3&ixid=M3wxMjA3fDB8MHxwaG90by1wYWdlfHx8fGVufDB8fHx8fA%3D%3D&auto=format&fit=crop&w=687&q=80\" />"
   ]
  },
  {
   "cell_type": "markdown",
   "metadata": {},
   "source": [
    "## What else can we achieve with Jupyter Notebooks?"
   ]
  },
  {
   "cell_type": "markdown",
   "metadata": {},
   "source": [
    "Let's carry out a simple analysis of linguistic data from the Internet. We will use **Python** and **NLTK** :)"
   ]
  },
  {
   "cell_type": "code",
   "execution_count": 13,
   "metadata": {},
   "outputs": [],
   "source": [
    "import requests"
   ]
  },
  {
   "cell_type": "code",
   "execution_count": 17,
   "metadata": {},
   "outputs": [],
   "source": [
    "page = requests.get(\"https://en.ug.edu.pl/\")\n",
    "# print(page.content)"
   ]
  },
  {
   "cell_type": "code",
   "execution_count": 18,
   "metadata": {},
   "outputs": [],
   "source": [
    "from bs4 import BeautifulSoup\n",
    "soup = BeautifulSoup(page.content, 'html.parser')"
   ]
  },
  {
   "cell_type": "code",
   "execution_count": 21,
   "metadata": {},
   "outputs": [],
   "source": [
    "# print(soup)"
   ]
  },
  {
   "cell_type": "code",
   "execution_count": 26,
   "metadata": {},
   "outputs": [],
   "source": [
    "paras = soup.find_all('p')\n",
    "# print(paras)"
   ]
  },
  {
   "cell_type": "code",
   "execution_count": 37,
   "metadata": {},
   "outputs": [
    {
     "name": "stdout",
     "output_type": "stream",
     "text": [
      "[\"- 'In my opinion, most of the cases we have to deal with are the result of unresolved conflicts, lack of immediate reaction of superiors to undesirable behaviour, and finally, a cultural change related to the perception…\", 'Christiane Hoffmann, author of the book\\xa0Alles, was wir nicht erinnern, will talk about all that we do not remember, although it still impacts us, on May 19. The guest of the Herder Centre UG is a journalist and has been…', 'The University of Gdańsk has won the\\xa0European Universities - Alliances of the Future\\xa0competition in the\\xa0Support for Ukraine\\xa0category. At the European Universities Conference in Warsaw, the…', \"Who was Paul Beneke, thanks to whom Hans Memling's painting\\xa0The Last Judgement\\xa0appeared in Gdańsk? Was he a privateer who acted legally or a pirate who, against the law, together with his…\", '\\xa0\\n\\xa0\\nSUMED - Sustainable multidimensional media education contents\\n\\xa0\\nCurriculum Design Workshop for educators: ‘How to embed green media content in curricula’ – Monday, June 5th2023 online…', 'For the 31st time, the Foundation for Polish Science has awarded scholarships in the START programme to the most talented young scientists from all over Poland. They will be awarded to 100…', 'General and historical information about the authorities as well as a guide to the University - a map and a virtual walk.', 'Information about scientific research, conferences, seminars and trips abroad, scholarships, awards. More information about Human Resources Strategy for Researchers.', \"We invite you to bachelor's and master's degrees, postgraduate studies, and doctoral schools. More information on why it is worth studying at the University and Erasmus+\", 'Basic information about practical aspects of studying in Poland and at the University of Gdańsk. Here we also offer courses, training and summer schools, culture and sport.', 'Information about international, inter-university, and socio-economic cooperation, which is conducted as part of such projects.', 'SEA-EU is an alliance of 9 European and coastal universities from Gdańsk, Cadiz, Brest, Kiel, Split, Malta,\\xa0Algarve, Naples oraz Bodø . Our vision is to establish a distinctly international, pluri-ethnic, multilingual and interdisciplinary European University.', '0', 'Students', '0', 'Educators', '0', 'Faculties / International Research Agendas', '0', 'Subjects BrE.', 'ul. Jana Bażyńskiego 8, 80-309 Gdańsk', 'NIP: 584-020-32-39\\nREGON: 000001330', 'reception phone number:\\n+ 48 58 523 30 00', 'bank account numbers']\n"
     ]
    }
   ],
   "source": [
    "only_text = []\n",
    "for el in paras:\n",
    "    if len(el.getText().strip()) > 0:\n",
    "        only_text.append(el.getText())\n",
    "print(only_text)"
   ]
  },
  {
   "cell_type": "code",
   "execution_count": 35,
   "metadata": {},
   "outputs": [],
   "source": [
    "import nltk"
   ]
  },
  {
   "cell_type": "code",
   "execution_count": 44,
   "metadata": {},
   "outputs": [],
   "source": [
    "tuples = []\n",
    "for sentence in only_text:\n",
    "    tokenized = nltk.word_tokenize(sentence)\n",
    "    tagged = nltk.pos_tag(tokenized)\n",
    "    for item in tagged:\n",
    "        tuples.append(item)\n",
    "\n",
    "# print(tuples)"
   ]
  },
  {
   "cell_type": "code",
   "execution_count": 45,
   "metadata": {},
   "outputs": [
    {
     "name": "stdout",
     "output_type": "stream",
     "text": [
      "{':': 8, 'POS': 4, 'PRP$': 2, 'NN': 56, ',': 36, 'JJS': 1, 'IN': 44, 'DT': 31, 'NNS': 30, 'PRP': 10, 'VBP': 6, 'TO': 10, 'VB': 8, 'JJ': 33, 'CC': 15, 'RB': 11, 'VBN': 5, 'NNP': 61, 'VBD': 4, 'MD': 2, 'PDT': 1, 'VBZ': 10, 'CD': 17, '.': 15, 'WP': 4, 'NNPS': 2, 'VBG': 4, 'WRB': 2, 'RBS': 1, 'JJR': 2, 'WDT': 1}\n"
     ]
    }
   ],
   "source": [
    "counter_dict = {}\n",
    "for item in tuples:\n",
    "    if item[1] not in counter_dict:\n",
    "        counter_dict[item[1]] = 1\n",
    "    else:\n",
    "        counter_dict[item[1]] += 1\n",
    "\n",
    "print(counter_dict)"
   ]
  },
  {
   "cell_type": "markdown",
   "metadata": {},
   "source": [
    "Here you may add some statisical analysis (e.g. how many nouns were recognized, how many adjectives etc. You can also add some graphs/charts to show your stats. The more complex you make it, the better!"
   ]
  },
  {
   "cell_type": "markdown",
   "metadata": {},
   "source": [
    "Write an *interactive linguistic essay* - use Beautiful Soup to scrape text from a website and NLTK to carry out some basic linguistic analysis. Make sure that you're using as many features of the Notebook as possible, so advanced Markdown is welcome. I don't expect very advanced Python - it can be very basic, but I want you to learn how to use the Jupyter Notebook! Of course, it would be awesome if you could learn more NLTK and do some deeper research, visualizing the stats with matplotlib etc. Decide yourself how much effort you want to put into this - remember that it will be part of your portfolio!\n",
    "\n",
    "The language you're using is also relevant, I will grade your English too ;)"
   ]
  },
  {
   "cell_type": "code",
   "execution_count": null,
   "metadata": {},
   "outputs": [],
   "source": []
  }
 ],
 "metadata": {
  "kernelspec": {
   "display_name": "Python 3",
   "language": "python",
   "name": "python3"
  },
  "language_info": {
   "codemirror_mode": {
    "name": "ipython",
    "version": 3
   },
   "file_extension": ".py",
   "mimetype": "text/x-python",
   "name": "python",
   "nbconvert_exporter": "python",
   "pygments_lexer": "ipython3",
   "version": "3.7.1"
  }
 },
 "nbformat": 4,
 "nbformat_minor": 2
}
